{
 "cells": [
  {
   "cell_type": "markdown",
   "metadata": {
    "id": "dc468a5e"
   },
   "source": [
    "# Problem : To predict the price of etherium \n",
    "* crypto prices are extremely volatile, and the people who trade them are trying to capitalize on that volatility. \n",
    "* The value of one ETH was trending between 1800 USD and 2300 USD in July 2021.\n",
    "### ---------------------------------------------------------------------"
   ]
  },
  {
   "cell_type": "markdown",
   "metadata": {
    "id": "82ce6a25"
   },
   "source": [
    "## What is Cryptocurrency ?\n",
    "* A cryptocurrency, crypto-currency, or crypto is a binary data designed to work as a medium of exchange wherein individual coin ownership records are stored in a ledger existing in a form of a computerized database using strong cryptography to secure transaction records, to control the creation of additional coins, and to verify the transfer of coin ownership.\n",
    "* Cryptocurrency does not exist in physical form (like paper money) and is typically not issued by a central authority.\n",
    "\n",
    "\n",
    "## What Is Ethereum?\n",
    "Ethereum is a blockchain platform with its own cryptocurrency, called Ether (ETH) or Ethereum, and its own programming language, called Solidity.\n",
    "\n",
    "As a blockchain network, Ethereum is a decentralized public ledger for verifying and recording transactions. The network's users can create, publish, monetize, and use applications on the platform, and use its Ether cryptocurrency as payment. Insiders call the decentralized applications on the network \"dapps.\"\n",
    "\n",
    "* Ethereum is an open-source blockchain-based platform used to create and share business, financial services, and entertainment applications.\n",
    "* Ethereum users pay fees to use dapps. The fees are called \"gas\" because they vary depending on the amount of computational power required.\n",
    "* Ethereum has its own associated cryptocurrency, Ether or ETH.\n",
    "* bIts cryptocurrency is now second only to Bitcoin in market value.\n",
    "\n",
    "## What Is Ethereum in Simple Terms?\n",
    "* Ethereum, like any blockchain, is a database of information that is designed to be unhackable. Ether, or ETH, is the cryptocurrency used to complete transactions on the blockchain.\n",
    "\n",
    "* Unlike in a traditional database, information in a blockchain is organized as a chronological \"chain\" made up of \"blocks\" of data. For instance, every transaction using an Ether coin must be verified and recorded as an additional block on that coin's unique blockchain.\n",
    "\n",
    "## How Does Ethereum Make Money?\n",
    "* Users pay fees to use dapps on the Ethereum platform. These fees are called \"gas\" because they vary depending on the amount of computational power used\n",
    "\n",
    "### ------------------------------------------------------------------"
   ]
  },
  {
   "cell_type": "markdown",
   "metadata": {
    "id": "f3b8444f"
   },
   "source": [
    "# Approach to solve Problem.\n",
    "\n",
    "1. First of all we will collect/load/Download the data.\n",
    "2. After having the data we will read that data in our jupyter notebook in the form of DataFrame.\n",
    "3. After creating dataframem we will analyse the data like no. of rows and columns.\n",
    "4. Then we try to process the data according to our need, we make necessary change adding or removing rows/columns etc.\n",
    "5. After some preprocessing then we will visualize the data for better understanding of the features , here we will look at the heatmap which tells about the correlation between different features or columns.\n",
    "6. After Visualizing we will select our feature to be used for model training.\n",
    "7. After data preparation we will split our data into training and testing set, so that we can paas them to our model for training and testing.\n",
    "8. After splitting data and visualizing our data sets we select the appropriate model for prediction , here we are using the Linear Regression model , because our data is showing Linear behaviour.\n",
    "9. After model building we will test the accuracy of our model and predict some test data or values using that model.\n",
    "10. in last we wiil save our model using pickle module, so if in future we want to use it we can just import and predict values insatntly.\n",
    "\n",
    "![image.png](attachment:image.png)\n",
    "### ------------------------------------------------------------"
   ]
  },
  {
   "cell_type": "markdown",
   "metadata": {
    "id": "4e7a6e13"
   },
   "source": [
    "## Importing Libraries "
   ]
  },
  {
   "cell_type": "code",
   "execution_count": 2,
   "metadata": {
    "id": "bfa971e9"
   },
   "outputs": [],
   "source": [
    "import numpy as np \n",
    "import pandas as pd\n",
    "import matplotlib.pyplot as plt\n",
    "import seaborn as sns\n",
    "from sklearn.linear_model import LinearRegression\n",
    "from sklearn.model_selection import train_test_split"
   ]
  },
  {
   "cell_type": "markdown",
   "metadata": {
    "id": "04ec02bc"
   },
   "source": []
  },
  {
   "cell_type": "markdown",
   "metadata": {
    "id": "fdda2a21"
   },
   "source": [
    "![image-7.png](attachment:image-7.png)\n",
    "\n",
    "## What is NumPy?\n",
    "NumPy is the fundamental package for scientific computing in Python. It is a Python library that provides a multidimensional array object, various derived objects (such as masked arrays and matrices), and an assortment of routines for fast operations on arrays, including mathematical, logical, shape manipulation, sorting, selecting, I/O, discrete Fourier transforms, basic linear algebra, basic statistical operations, random simulation and much more.\n",
    "\n",
    "![image-5.png](attachment:image-5.png)\n",
    "\n",
    "## What Is Pandas?\n",
    "Pandas is an open source Python package that is most widely used for data science/data analysis and machine learning tasks. It is built on top of another package named Numpy, which provides support for multi-dimensional arrays. \n",
    "\n",
    "## What Can You Do With DataFrames Using Pandas?\n",
    "Pandas makes it simple to do many of the time consuming, repetitive tasks associated with working with data, including:\n",
    "\n",
    "* Data cleansing\n",
    "* Data fill\n",
    "* Data normalization\n",
    "* Merges and joins\n",
    "* Data visualization\n",
    "* Statistical analysis\n",
    "* Data inspection\n",
    "* Loading and saving data\n",
    "* And much more\n",
    "\n",
    "![image-2.png](attachment:image-2.png)\n",
    "## What Is Python Matplotlib?\n",
    "* matplotlib.pyplot is a plotting library used for 2D graphics in python programming language. It can be used in python scripts, shell, web application servers and other graphical user interface toolkits.\n",
    "\n",
    "### Is Matplotlib Included in Python?\n",
    "\n",
    "* Matplotlib is not a part of the Standard Libraries which is installed by default when Python, there are several toolkits which are available that extend python matplotlib functionality. Some of them are separate downloads, others can be shipped with the matplotlib source code but have external dependencies.\n",
    "\n",
    "### Python Matplotlib : Types of Plots\n",
    "There are various plots which can be created using python matplotlib. Some of them are listed below:\\\n",
    "![image-4.png](attachment:image-4.png)\n",
    "\n",
    "![image-9.png](attachment:image-9.png)\n",
    "\n",
    "## An introduction to seaborn\n",
    "Seaborn is a library for making statistical graphics in Python. It builds on top of matplotlib and integrates closely with pandas data structures.\n",
    "\n",
    "* Seaborn helps you explore and understand your data. Its plotting functions operate on dataframes and arrays containing whole datasets and internally perform the necessary semantic mapping and statistical aggregation to produce informative plots. Its dataset-oriented, declarative API lets you focus on what the different elements of your plots mean, rather than on the details of how to draw them\n",
    "\n",
    "![image-10.png](attachment:image-10.png)\n",
    "\n",
    "## What is scikit-learn?\n",
    "Scikit-learn provides a range of supervised and unsupervised learning algorithms via a consistent interface in Python.\n",
    "\n",
    "The library is built upon the SciPy (Scientific Python) that must be installed before you can use scikit-learn. This stack that includes:\n",
    "\n",
    "* NumPy: Base n-dimensional array package\n",
    "* SciPy: Fundamental library for scientific computing\n",
    "* Matplotlib: Comprehensive 2D/3D plotting\n",
    "* IPython: Enhanced interactive console\n",
    "* Sympy: Symbolic mathematics\n",
    "* Pandas: Data structures and analysis\n",
    "\n",
    "Scikit-learn comes loaded with a lot of features. Here are a few of them to help you understand the spread:\n",
    "* Supervised learning algorithms\n",
    "* Unsupervised learning algorithms\n",
    "* Cross-validation\n",
    "* Various toy datasets\n",
    "* Feature extraction\n",
    "\n",
    "### --------------------------------------------------------------"
   ]
  },
  {
   "cell_type": "markdown",
   "metadata": {
    "id": "abda1f53"
   },
   "source": [
    "# Loading the Data Set"
   ]
  },
  {
   "cell_type": "code",
   "execution_count": 5,
   "metadata": {
    "colab": {
     "base_uri": "https://localhost:8080/",
     "height": 405
    },
    "id": "0785fa6d",
    "outputId": "c896abde-20dd-4406-b170-52193236369d"
   },
   "outputs": [
    {
     "data": {
      "text/html": [
       "<div>\n",
       "<style scoped>\n",
       "    .dataframe tbody tr th:only-of-type {\n",
       "        vertical-align: middle;\n",
       "    }\n",
       "\n",
       "    .dataframe tbody tr th {\n",
       "        vertical-align: top;\n",
       "    }\n",
       "\n",
       "    .dataframe thead th {\n",
       "        text-align: right;\n",
       "    }\n",
       "</style>\n",
       "<table border=\"1\" class=\"dataframe\">\n",
       "  <thead>\n",
       "    <tr style=\"text-align: right;\">\n",
       "      <th></th>\n",
       "      <th>Unix Timestamp</th>\n",
       "      <th>Date</th>\n",
       "      <th>Symbol</th>\n",
       "      <th>Open</th>\n",
       "      <th>High</th>\n",
       "      <th>Low</th>\n",
       "      <th>Close</th>\n",
       "      <th>Volume</th>\n",
       "    </tr>\n",
       "  </thead>\n",
       "  <tbody>\n",
       "    <tr>\n",
       "      <th>0</th>\n",
       "      <td>1586995200000</td>\n",
       "      <td>2020-04-16 00:00:00</td>\n",
       "      <td>ETHUSD</td>\n",
       "      <td>152.94</td>\n",
       "      <td>152.94</td>\n",
       "      <td>150.39</td>\n",
       "      <td>150.39</td>\n",
       "      <td>650.188125</td>\n",
       "    </tr>\n",
       "    <tr>\n",
       "      <th>1</th>\n",
       "      <td>1586991600000</td>\n",
       "      <td>2020-04-15 23:00:00</td>\n",
       "      <td>ETHUSD</td>\n",
       "      <td>155.81</td>\n",
       "      <td>155.81</td>\n",
       "      <td>151.39</td>\n",
       "      <td>152.94</td>\n",
       "      <td>4277.567299</td>\n",
       "    </tr>\n",
       "    <tr>\n",
       "      <th>2</th>\n",
       "      <td>1586988000000</td>\n",
       "      <td>2020-04-15 22:00:00</td>\n",
       "      <td>ETHUSD</td>\n",
       "      <td>157.18</td>\n",
       "      <td>157.30</td>\n",
       "      <td>155.32</td>\n",
       "      <td>155.81</td>\n",
       "      <td>106.337279</td>\n",
       "    </tr>\n",
       "    <tr>\n",
       "      <th>3</th>\n",
       "      <td>1586984400000</td>\n",
       "      <td>2020-04-15 21:00:00</td>\n",
       "      <td>ETHUSD</td>\n",
       "      <td>158.04</td>\n",
       "      <td>158.31</td>\n",
       "      <td>157.16</td>\n",
       "      <td>157.18</td>\n",
       "      <td>55.244131</td>\n",
       "    </tr>\n",
       "    <tr>\n",
       "      <th>4</th>\n",
       "      <td>1586980800000</td>\n",
       "      <td>2020-04-15 20:00:00</td>\n",
       "      <td>ETHUSD</td>\n",
       "      <td>157.10</td>\n",
       "      <td>158.10</td>\n",
       "      <td>156.87</td>\n",
       "      <td>158.04</td>\n",
       "      <td>144.262622</td>\n",
       "    </tr>\n",
       "    <tr>\n",
       "      <th>...</th>\n",
       "      <td>...</td>\n",
       "      <td>...</td>\n",
       "      <td>...</td>\n",
       "      <td>...</td>\n",
       "      <td>...</td>\n",
       "      <td>...</td>\n",
       "      <td>...</td>\n",
       "      <td>...</td>\n",
       "    </tr>\n",
       "    <tr>\n",
       "      <th>34492</th>\n",
       "      <td>1462813200</td>\n",
       "      <td>2016-05-09 17:00:00</td>\n",
       "      <td>ETHUSD</td>\n",
       "      <td>9.83</td>\n",
       "      <td>9.83</td>\n",
       "      <td>9.48</td>\n",
       "      <td>9.49</td>\n",
       "      <td>329.553213</td>\n",
       "    </tr>\n",
       "    <tr>\n",
       "      <th>34493</th>\n",
       "      <td>1462809600</td>\n",
       "      <td>2016-05-09 16:00:00</td>\n",
       "      <td>ETHUSD</td>\n",
       "      <td>9.99</td>\n",
       "      <td>9.99</td>\n",
       "      <td>9.79</td>\n",
       "      <td>9.83</td>\n",
       "      <td>62.379450</td>\n",
       "    </tr>\n",
       "    <tr>\n",
       "      <th>34494</th>\n",
       "      <td>1462806000</td>\n",
       "      <td>2016-05-09 15:00:00</td>\n",
       "      <td>ETHUSD</td>\n",
       "      <td>10.00</td>\n",
       "      <td>10.00</td>\n",
       "      <td>9.99</td>\n",
       "      <td>9.99</td>\n",
       "      <td>10.973567</td>\n",
       "    </tr>\n",
       "    <tr>\n",
       "      <th>34495</th>\n",
       "      <td>1462802400</td>\n",
       "      <td>2016-05-09 14:00:00</td>\n",
       "      <td>ETHUSD</td>\n",
       "      <td>9.55</td>\n",
       "      <td>10.00</td>\n",
       "      <td>9.55</td>\n",
       "      <td>10.00</td>\n",
       "      <td>235.774075</td>\n",
       "    </tr>\n",
       "    <tr>\n",
       "      <th>34496</th>\n",
       "      <td>1462798800</td>\n",
       "      <td>2016-05-09 13:00:00</td>\n",
       "      <td>ETHUSD</td>\n",
       "      <td>0.00</td>\n",
       "      <td>12.00</td>\n",
       "      <td>0.00</td>\n",
       "      <td>9.55</td>\n",
       "      <td>432.562115</td>\n",
       "    </tr>\n",
       "  </tbody>\n",
       "</table>\n",
       "<p>34497 rows × 8 columns</p>\n",
       "</div>"
      ],
      "text/plain": [
       "       Unix Timestamp                 Date  Symbol    Open    High     Low  \\\n",
       "0       1586995200000  2020-04-16 00:00:00  ETHUSD  152.94  152.94  150.39   \n",
       "1       1586991600000  2020-04-15 23:00:00  ETHUSD  155.81  155.81  151.39   \n",
       "2       1586988000000  2020-04-15 22:00:00  ETHUSD  157.18  157.30  155.32   \n",
       "3       1586984400000  2020-04-15 21:00:00  ETHUSD  158.04  158.31  157.16   \n",
       "4       1586980800000  2020-04-15 20:00:00  ETHUSD  157.10  158.10  156.87   \n",
       "...               ...                  ...     ...     ...     ...     ...   \n",
       "34492      1462813200  2016-05-09 17:00:00  ETHUSD    9.83    9.83    9.48   \n",
       "34493      1462809600  2016-05-09 16:00:00  ETHUSD    9.99    9.99    9.79   \n",
       "34494      1462806000  2016-05-09 15:00:00  ETHUSD   10.00   10.00    9.99   \n",
       "34495      1462802400  2016-05-09 14:00:00  ETHUSD    9.55   10.00    9.55   \n",
       "34496      1462798800  2016-05-09 13:00:00  ETHUSD    0.00   12.00    0.00   \n",
       "\n",
       "        Close       Volume  \n",
       "0      150.39   650.188125  \n",
       "1      152.94  4277.567299  \n",
       "2      155.81   106.337279  \n",
       "3      157.18    55.244131  \n",
       "4      158.04   144.262622  \n",
       "...       ...          ...  \n",
       "34492    9.49   329.553213  \n",
       "34493    9.83    62.379450  \n",
       "34494    9.99    10.973567  \n",
       "34495   10.00   235.774075  \n",
       "34496    9.55   432.562115  \n",
       "\n",
       "[34497 rows x 8 columns]"
      ]
     },
     "execution_count": 5,
     "metadata": {},
     "output_type": "execute_result"
    }
   ],
   "source": [
    "df= pd.read_csv('C:/Users/kshit/ETH_1H.csv')\n",
    "df"
   ]
  },
  {
   "cell_type": "markdown",
   "metadata": {
    "id": "ef4c10de"
   },
   "source": [
    "# Data Preprocessing and Logic Implementation."
   ]
  },
  {
   "cell_type": "code",
   "execution_count": 6,
   "metadata": {
    "colab": {
     "base_uri": "https://localhost:8080/",
     "height": 669
    },
    "id": "a5d76912",
    "outputId": "a669d696-4198-4b1f-b79a-5dc823e34a34"
   },
   "outputs": [
    {
     "data": {
      "text/html": [
       "<div>\n",
       "<style scoped>\n",
       "    .dataframe tbody tr th:only-of-type {\n",
       "        vertical-align: middle;\n",
       "    }\n",
       "\n",
       "    .dataframe tbody tr th {\n",
       "        vertical-align: top;\n",
       "    }\n",
       "\n",
       "    .dataframe thead th {\n",
       "        text-align: right;\n",
       "    }\n",
       "</style>\n",
       "<table border=\"1\" class=\"dataframe\">\n",
       "  <thead>\n",
       "    <tr style=\"text-align: right;\">\n",
       "      <th></th>\n",
       "      <th>Unix Timestamp</th>\n",
       "      <th>Date</th>\n",
       "      <th>Symbol</th>\n",
       "      <th>Open</th>\n",
       "      <th>High</th>\n",
       "      <th>Low</th>\n",
       "      <th>Close</th>\n",
       "      <th>Volume</th>\n",
       "      <th>Prediction</th>\n",
       "    </tr>\n",
       "  </thead>\n",
       "  <tbody>\n",
       "    <tr>\n",
       "      <th>0</th>\n",
       "      <td>1586995200000</td>\n",
       "      <td>2020-04-16 00:00:00</td>\n",
       "      <td>ETHUSD</td>\n",
       "      <td>152.94</td>\n",
       "      <td>152.94</td>\n",
       "      <td>150.39</td>\n",
       "      <td>150.39</td>\n",
       "      <td>650.188125</td>\n",
       "      <td>157.69</td>\n",
       "    </tr>\n",
       "    <tr>\n",
       "      <th>1</th>\n",
       "      <td>1586991600000</td>\n",
       "      <td>2020-04-15 23:00:00</td>\n",
       "      <td>ETHUSD</td>\n",
       "      <td>155.81</td>\n",
       "      <td>155.81</td>\n",
       "      <td>151.39</td>\n",
       "      <td>152.94</td>\n",
       "      <td>4277.567299</td>\n",
       "      <td>159.05</td>\n",
       "    </tr>\n",
       "    <tr>\n",
       "      <th>2</th>\n",
       "      <td>1586988000000</td>\n",
       "      <td>2020-04-15 22:00:00</td>\n",
       "      <td>ETHUSD</td>\n",
       "      <td>157.18</td>\n",
       "      <td>157.30</td>\n",
       "      <td>155.32</td>\n",
       "      <td>155.81</td>\n",
       "      <td>106.337279</td>\n",
       "      <td>158.77</td>\n",
       "    </tr>\n",
       "    <tr>\n",
       "      <th>3</th>\n",
       "      <td>1586984400000</td>\n",
       "      <td>2020-04-15 21:00:00</td>\n",
       "      <td>ETHUSD</td>\n",
       "      <td>158.04</td>\n",
       "      <td>158.31</td>\n",
       "      <td>157.16</td>\n",
       "      <td>157.18</td>\n",
       "      <td>55.244131</td>\n",
       "      <td>159.84</td>\n",
       "    </tr>\n",
       "    <tr>\n",
       "      <th>4</th>\n",
       "      <td>1586980800000</td>\n",
       "      <td>2020-04-15 20:00:00</td>\n",
       "      <td>ETHUSD</td>\n",
       "      <td>157.10</td>\n",
       "      <td>158.10</td>\n",
       "      <td>156.87</td>\n",
       "      <td>158.04</td>\n",
       "      <td>144.262622</td>\n",
       "      <td>160.21</td>\n",
       "    </tr>\n",
       "    <tr>\n",
       "      <th>5</th>\n",
       "      <td>1586977200000</td>\n",
       "      <td>2020-04-15 19:00:00</td>\n",
       "      <td>ETHUSD</td>\n",
       "      <td>157.78</td>\n",
       "      <td>157.84</td>\n",
       "      <td>157.10</td>\n",
       "      <td>157.10</td>\n",
       "      <td>329.356201</td>\n",
       "      <td>160.91</td>\n",
       "    </tr>\n",
       "    <tr>\n",
       "      <th>6</th>\n",
       "      <td>1586973600000</td>\n",
       "      <td>2020-04-15 18:00:00</td>\n",
       "      <td>ETHUSD</td>\n",
       "      <td>157.48</td>\n",
       "      <td>158.20</td>\n",
       "      <td>157.48</td>\n",
       "      <td>157.78</td>\n",
       "      <td>520.137463</td>\n",
       "      <td>159.97</td>\n",
       "    </tr>\n",
       "    <tr>\n",
       "      <th>7</th>\n",
       "      <td>1586970000000</td>\n",
       "      <td>2020-04-15 17:00:00</td>\n",
       "      <td>ETHUSD</td>\n",
       "      <td>157.12</td>\n",
       "      <td>157.78</td>\n",
       "      <td>156.90</td>\n",
       "      <td>157.48</td>\n",
       "      <td>156.552221</td>\n",
       "      <td>160.62</td>\n",
       "    </tr>\n",
       "    <tr>\n",
       "      <th>8</th>\n",
       "      <td>1586966400000</td>\n",
       "      <td>2020-04-15 16:00:00</td>\n",
       "      <td>ETHUSD</td>\n",
       "      <td>155.81</td>\n",
       "      <td>157.52</td>\n",
       "      <td>155.74</td>\n",
       "      <td>157.12</td>\n",
       "      <td>430.083035</td>\n",
       "      <td>160.27</td>\n",
       "    </tr>\n",
       "    <tr>\n",
       "      <th>9</th>\n",
       "      <td>1586962800000</td>\n",
       "      <td>2020-04-15 15:00:00</td>\n",
       "      <td>ETHUSD</td>\n",
       "      <td>157.12</td>\n",
       "      <td>157.15</td>\n",
       "      <td>155.81</td>\n",
       "      <td>155.81</td>\n",
       "      <td>303.839541</td>\n",
       "      <td>158.50</td>\n",
       "    </tr>\n",
       "    <tr>\n",
       "      <th>10</th>\n",
       "      <td>1586959200000</td>\n",
       "      <td>2020-04-15 14:00:00</td>\n",
       "      <td>ETHUSD</td>\n",
       "      <td>156.57</td>\n",
       "      <td>158.09</td>\n",
       "      <td>156.57</td>\n",
       "      <td>157.12</td>\n",
       "      <td>747.870220</td>\n",
       "      <td>157.12</td>\n",
       "    </tr>\n",
       "    <tr>\n",
       "      <th>11</th>\n",
       "      <td>1586955600000</td>\n",
       "      <td>2020-04-15 13:00:00</td>\n",
       "      <td>ETHUSD</td>\n",
       "      <td>156.46</td>\n",
       "      <td>157.67</td>\n",
       "      <td>155.50</td>\n",
       "      <td>156.57</td>\n",
       "      <td>320.060172</td>\n",
       "      <td>158.61</td>\n",
       "    </tr>\n",
       "    <tr>\n",
       "      <th>12</th>\n",
       "      <td>1586952000000</td>\n",
       "      <td>2020-04-15 12:00:00</td>\n",
       "      <td>ETHUSD</td>\n",
       "      <td>157.45</td>\n",
       "      <td>157.76</td>\n",
       "      <td>155.58</td>\n",
       "      <td>156.46</td>\n",
       "      <td>1922.313877</td>\n",
       "      <td>159.92</td>\n",
       "    </tr>\n",
       "    <tr>\n",
       "      <th>13</th>\n",
       "      <td>1586948400000</td>\n",
       "      <td>2020-04-15 11:00:00</td>\n",
       "      <td>ETHUSD</td>\n",
       "      <td>157.69</td>\n",
       "      <td>158.26</td>\n",
       "      <td>157.09</td>\n",
       "      <td>157.45</td>\n",
       "      <td>993.970288</td>\n",
       "      <td>159.12</td>\n",
       "    </tr>\n",
       "    <tr>\n",
       "      <th>14</th>\n",
       "      <td>1586944800000</td>\n",
       "      <td>2020-04-15 10:00:00</td>\n",
       "      <td>ETHUSD</td>\n",
       "      <td>159.05</td>\n",
       "      <td>159.76</td>\n",
       "      <td>157.25</td>\n",
       "      <td>157.69</td>\n",
       "      <td>866.472222</td>\n",
       "      <td>159.36</td>\n",
       "    </tr>\n",
       "    <tr>\n",
       "      <th>15</th>\n",
       "      <td>1586941200000</td>\n",
       "      <td>2020-04-15 09:00:00</td>\n",
       "      <td>ETHUSD</td>\n",
       "      <td>158.77</td>\n",
       "      <td>159.41</td>\n",
       "      <td>157.88</td>\n",
       "      <td>159.05</td>\n",
       "      <td>108.160041</td>\n",
       "      <td>160.70</td>\n",
       "    </tr>\n",
       "    <tr>\n",
       "      <th>16</th>\n",
       "      <td>1586937600000</td>\n",
       "      <td>2020-04-15 08:00:00</td>\n",
       "      <td>ETHUSD</td>\n",
       "      <td>159.84</td>\n",
       "      <td>160.02</td>\n",
       "      <td>158.44</td>\n",
       "      <td>158.77</td>\n",
       "      <td>96.255414</td>\n",
       "      <td>160.63</td>\n",
       "    </tr>\n",
       "    <tr>\n",
       "      <th>17</th>\n",
       "      <td>1586934000000</td>\n",
       "      <td>2020-04-15 07:00:00</td>\n",
       "      <td>ETHUSD</td>\n",
       "      <td>160.21</td>\n",
       "      <td>160.21</td>\n",
       "      <td>159.56</td>\n",
       "      <td>159.84</td>\n",
       "      <td>57.714281</td>\n",
       "      <td>159.84</td>\n",
       "    </tr>\n",
       "    <tr>\n",
       "      <th>18</th>\n",
       "      <td>1586930400000</td>\n",
       "      <td>2020-04-15 06:00:00</td>\n",
       "      <td>ETHUSD</td>\n",
       "      <td>160.91</td>\n",
       "      <td>161.52</td>\n",
       "      <td>160.07</td>\n",
       "      <td>160.21</td>\n",
       "      <td>113.101882</td>\n",
       "      <td>161.72</td>\n",
       "    </tr>\n",
       "    <tr>\n",
       "      <th>19</th>\n",
       "      <td>1586926800000</td>\n",
       "      <td>2020-04-15 05:00:00</td>\n",
       "      <td>ETHUSD</td>\n",
       "      <td>159.97</td>\n",
       "      <td>160.91</td>\n",
       "      <td>159.89</td>\n",
       "      <td>160.91</td>\n",
       "      <td>72.618334</td>\n",
       "      <td>160.17</td>\n",
       "    </tr>\n",
       "  </tbody>\n",
       "</table>\n",
       "</div>"
      ],
      "text/plain": [
       "    Unix Timestamp                 Date  Symbol    Open    High     Low  \\\n",
       "0    1586995200000  2020-04-16 00:00:00  ETHUSD  152.94  152.94  150.39   \n",
       "1    1586991600000  2020-04-15 23:00:00  ETHUSD  155.81  155.81  151.39   \n",
       "2    1586988000000  2020-04-15 22:00:00  ETHUSD  157.18  157.30  155.32   \n",
       "3    1586984400000  2020-04-15 21:00:00  ETHUSD  158.04  158.31  157.16   \n",
       "4    1586980800000  2020-04-15 20:00:00  ETHUSD  157.10  158.10  156.87   \n",
       "5    1586977200000  2020-04-15 19:00:00  ETHUSD  157.78  157.84  157.10   \n",
       "6    1586973600000  2020-04-15 18:00:00  ETHUSD  157.48  158.20  157.48   \n",
       "7    1586970000000  2020-04-15 17:00:00  ETHUSD  157.12  157.78  156.90   \n",
       "8    1586966400000  2020-04-15 16:00:00  ETHUSD  155.81  157.52  155.74   \n",
       "9    1586962800000  2020-04-15 15:00:00  ETHUSD  157.12  157.15  155.81   \n",
       "10   1586959200000  2020-04-15 14:00:00  ETHUSD  156.57  158.09  156.57   \n",
       "11   1586955600000  2020-04-15 13:00:00  ETHUSD  156.46  157.67  155.50   \n",
       "12   1586952000000  2020-04-15 12:00:00  ETHUSD  157.45  157.76  155.58   \n",
       "13   1586948400000  2020-04-15 11:00:00  ETHUSD  157.69  158.26  157.09   \n",
       "14   1586944800000  2020-04-15 10:00:00  ETHUSD  159.05  159.76  157.25   \n",
       "15   1586941200000  2020-04-15 09:00:00  ETHUSD  158.77  159.41  157.88   \n",
       "16   1586937600000  2020-04-15 08:00:00  ETHUSD  159.84  160.02  158.44   \n",
       "17   1586934000000  2020-04-15 07:00:00  ETHUSD  160.21  160.21  159.56   \n",
       "18   1586930400000  2020-04-15 06:00:00  ETHUSD  160.91  161.52  160.07   \n",
       "19   1586926800000  2020-04-15 05:00:00  ETHUSD  159.97  160.91  159.89   \n",
       "\n",
       "     Close       Volume  Prediction  \n",
       "0   150.39   650.188125      157.69  \n",
       "1   152.94  4277.567299      159.05  \n",
       "2   155.81   106.337279      158.77  \n",
       "3   157.18    55.244131      159.84  \n",
       "4   158.04   144.262622      160.21  \n",
       "5   157.10   329.356201      160.91  \n",
       "6   157.78   520.137463      159.97  \n",
       "7   157.48   156.552221      160.62  \n",
       "8   157.12   430.083035      160.27  \n",
       "9   155.81   303.839541      158.50  \n",
       "10  157.12   747.870220      157.12  \n",
       "11  156.57   320.060172      158.61  \n",
       "12  156.46  1922.313877      159.92  \n",
       "13  157.45   993.970288      159.12  \n",
       "14  157.69   866.472222      159.36  \n",
       "15  159.05   108.160041      160.70  \n",
       "16  158.77    96.255414      160.63  \n",
       "17  159.84    57.714281      159.84  \n",
       "18  160.21   113.101882      161.72  \n",
       "19  160.91    72.618334      160.17  "
      ]
     },
     "execution_count": 6,
     "metadata": {},
     "output_type": "execute_result"
    }
   ],
   "source": [
    "projection = 14    # variable for number of days to predict for future.\n",
    "# create a new column named prediction \n",
    "\n",
    "df['Prediction'] = df [['Close']].shift(-projection)\n",
    "df.head(20)"
   ]
  },
  {
   "cell_type": "code",
   "execution_count": 7,
   "metadata": {
    "colab": {
     "base_uri": "https://localhost:8080/",
     "height": 204
    },
    "id": "ab8d76fa",
    "outputId": "911ce2f0-84a5-45b6-b1d5-c458957ef58a"
   },
   "outputs": [
    {
     "data": {
      "text/html": [
       "<div>\n",
       "<style scoped>\n",
       "    .dataframe tbody tr th:only-of-type {\n",
       "        vertical-align: middle;\n",
       "    }\n",
       "\n",
       "    .dataframe tbody tr th {\n",
       "        vertical-align: top;\n",
       "    }\n",
       "\n",
       "    .dataframe thead th {\n",
       "        text-align: right;\n",
       "    }\n",
       "</style>\n",
       "<table border=\"1\" class=\"dataframe\">\n",
       "  <thead>\n",
       "    <tr style=\"text-align: right;\">\n",
       "      <th></th>\n",
       "      <th>Unix Timestamp</th>\n",
       "      <th>Date</th>\n",
       "      <th>Symbol</th>\n",
       "      <th>Open</th>\n",
       "      <th>High</th>\n",
       "      <th>Low</th>\n",
       "      <th>Close</th>\n",
       "      <th>Volume</th>\n",
       "      <th>Prediction</th>\n",
       "    </tr>\n",
       "  </thead>\n",
       "  <tbody>\n",
       "    <tr>\n",
       "      <th>34492</th>\n",
       "      <td>1462813200</td>\n",
       "      <td>2016-05-09 17:00:00</td>\n",
       "      <td>ETHUSD</td>\n",
       "      <td>9.83</td>\n",
       "      <td>9.83</td>\n",
       "      <td>9.48</td>\n",
       "      <td>9.49</td>\n",
       "      <td>329.553213</td>\n",
       "      <td>NaN</td>\n",
       "    </tr>\n",
       "    <tr>\n",
       "      <th>34493</th>\n",
       "      <td>1462809600</td>\n",
       "      <td>2016-05-09 16:00:00</td>\n",
       "      <td>ETHUSD</td>\n",
       "      <td>9.99</td>\n",
       "      <td>9.99</td>\n",
       "      <td>9.79</td>\n",
       "      <td>9.83</td>\n",
       "      <td>62.379450</td>\n",
       "      <td>NaN</td>\n",
       "    </tr>\n",
       "    <tr>\n",
       "      <th>34494</th>\n",
       "      <td>1462806000</td>\n",
       "      <td>2016-05-09 15:00:00</td>\n",
       "      <td>ETHUSD</td>\n",
       "      <td>10.00</td>\n",
       "      <td>10.00</td>\n",
       "      <td>9.99</td>\n",
       "      <td>9.99</td>\n",
       "      <td>10.973567</td>\n",
       "      <td>NaN</td>\n",
       "    </tr>\n",
       "    <tr>\n",
       "      <th>34495</th>\n",
       "      <td>1462802400</td>\n",
       "      <td>2016-05-09 14:00:00</td>\n",
       "      <td>ETHUSD</td>\n",
       "      <td>9.55</td>\n",
       "      <td>10.00</td>\n",
       "      <td>9.55</td>\n",
       "      <td>10.00</td>\n",
       "      <td>235.774075</td>\n",
       "      <td>NaN</td>\n",
       "    </tr>\n",
       "    <tr>\n",
       "      <th>34496</th>\n",
       "      <td>1462798800</td>\n",
       "      <td>2016-05-09 13:00:00</td>\n",
       "      <td>ETHUSD</td>\n",
       "      <td>0.00</td>\n",
       "      <td>12.00</td>\n",
       "      <td>0.00</td>\n",
       "      <td>9.55</td>\n",
       "      <td>432.562115</td>\n",
       "      <td>NaN</td>\n",
       "    </tr>\n",
       "  </tbody>\n",
       "</table>\n",
       "</div>"
      ],
      "text/plain": [
       "       Unix Timestamp                 Date  Symbol   Open   High   Low  Close  \\\n",
       "34492      1462813200  2016-05-09 17:00:00  ETHUSD   9.83   9.83  9.48   9.49   \n",
       "34493      1462809600  2016-05-09 16:00:00  ETHUSD   9.99   9.99  9.79   9.83   \n",
       "34494      1462806000  2016-05-09 15:00:00  ETHUSD  10.00  10.00  9.99   9.99   \n",
       "34495      1462802400  2016-05-09 14:00:00  ETHUSD   9.55  10.00  9.55  10.00   \n",
       "34496      1462798800  2016-05-09 13:00:00  ETHUSD   0.00  12.00  0.00   9.55   \n",
       "\n",
       "           Volume  Prediction  \n",
       "34492  329.553213         NaN  \n",
       "34493   62.379450         NaN  \n",
       "34494   10.973567         NaN  \n",
       "34495  235.774075         NaN  \n",
       "34496  432.562115         NaN  "
      ]
     },
     "execution_count": 7,
     "metadata": {},
     "output_type": "execute_result"
    }
   ],
   "source": [
    "df.tail()"
   ]
  },
  {
   "cell_type": "code",
   "execution_count": 8,
   "metadata": {
    "colab": {
     "base_uri": "https://localhost:8080/",
     "height": 357
    },
    "id": "51db0a4a",
    "outputId": "6c72b7eb-45ef-4afd-823e-3d37b417eed8"
   },
   "outputs": [
    {
     "data": {
      "text/plain": [
       "<matplotlib.axes._subplots.AxesSubplot at 0x1caad2c9b20>"
      ]
     },
     "execution_count": 8,
     "metadata": {},
     "output_type": "execute_result"
    },
    {
     "data": {
      "image/png": "[encoded data removed]",
      "text/plain": [
       "<Figure size 432x288 with 2 Axes>"
      ]
     },
     "metadata": {
      "needs_background": "light"
     },
     "output_type": "display_data"
    }
   ],
   "source": [
    "sns.heatmap(df.corr(), annot = True,cmap= 'coolwarm')"
   ]
  },
  {
   "cell_type": "code",
   "execution_count": 9,
   "metadata": {
    "colab": {
     "base_uri": "https://localhost:8080/"
    },
    "id": "e21415e0",
    "outputId": "09299fce-2210-46c0-a37c-35d0d42ba3c3"
   },
   "outputs": [
    {
     "name": "stdout",
     "output_type": "stream",
     "text": [
      "[[150.39]\n",
      " [152.94]\n",
      " [155.81]\n",
      " ...\n",
      " [  9.36]\n",
      " [  9.36]\n",
      " [  9.36]]\n"
     ]
    }
   ],
   "source": [
    "#create independent dataset (x)\n",
    "x = np.array(df[['Close']]) \n",
    "x=x[:-projection]\n",
    "print(x)"
   ]
  },
  {
   "cell_type": "code",
   "execution_count": 10,
   "metadata": {
    "colab": {
     "base_uri": "https://localhost:8080/"
    },
    "id": "b1503f7b",
    "outputId": "60a89884-9c2a-48ec-e82f-f21b4371aa1d"
   },
   "outputs": [
    {
     "name": "stdout",
     "output_type": "stream",
     "text": [
      "[157.69 159.05 158.77 ...   9.99  10.     9.55]\n"
     ]
    }
   ],
   "source": [
    "y= df['Prediction'].values\n",
    "y= y[:-projection]\n",
    "print(y)"
   ]
  },
  {
   "cell_type": "markdown",
   "metadata": {
    "id": "edfcdf64"
   },
   "source": [
    "# Splitting and visualizing Data"
   ]
  },
  {
   "cell_type": "code",
   "execution_count": 11,
   "metadata": {
    "id": "0d4f0880"
   },
   "outputs": [],
   "source": [
    "x_train, x_test, y_train, y_test = train_test_split(x,y, test_size = .20)"
   ]
  },
  {
   "cell_type": "code",
   "execution_count": 12,
   "metadata": {
    "colab": {
     "base_uri": "https://localhost:8080/",
     "height": 295
    },
    "id": "69088939",
    "outputId": "fbff5d65-41e0-4bbe-fb2b-b7e0dec02214"
   },
   "outputs": [
    {
     "data": {
      "image/png": "[encoded data removed]",
      "text/plain": [
       "<Figure size 432x288 with 1 Axes>"
      ]
     },
     "metadata": {
      "needs_background": "light"
     },
     "output_type": "display_data"
    }
   ],
   "source": [
    "plt.scatter(x_test, y_test, color = \"red\")\n",
    "plt.title(\"Etherium price vs Predicted Price after 14 days (Training set)\")\n",
    "plt.xlabel(\"Etherium Price\")\n",
    "plt.ylabel(\"Prediction Price\")\n",
    "plt.show()"
   ]
  },
  {
   "cell_type": "markdown",
   "metadata": {
    "id": "86ed31cf"
   },
   "source": [
    "# Model Building & testing"
   ]
  },
  {
   "cell_type": "markdown",
   "metadata": {
    "id": "a8a4f3ec"
   },
   "source": [
    "## Linear regression \n",
    "\n",
    "* Linear Regression is a machine learning algorithm based on supervised learning. It performs a regression task. Regression models a target prediction value based on independent variables. It is mostly used for finding out the relationship between variables and forecasting. Different regression models differ based on – the kind of relationship between dependent and independent variables, they are considering and the number of independent variables being used.\n",
    "\n",
    "![image.png](attachment:image.png)"
   ]
  },
  {
   "cell_type": "code",
   "execution_count": 13,
   "metadata": {
    "colab": {
     "base_uri": "https://localhost:8080/"
    },
    "id": "1da2dfc2",
    "outputId": "36de9c52-a434-4164-8e0c-efe7b3b12167"
   },
   "outputs": [
    {
     "data": {
      "text/plain": [
       "LinearRegression()"
      ]
     },
     "execution_count": 13,
     "metadata": {},
     "output_type": "execute_result"
    }
   ],
   "source": [
    "linReg = LinearRegression()\n",
    "#train the model\n",
    "linReg.fit(x_train, y_train)"
   ]
  },
  {
   "cell_type": "code",
   "execution_count": 14,
   "metadata": {
    "colab": {
     "base_uri": "https://localhost:8080/"
    },
    "id": "3e6f2611",
    "outputId": "a438cead-9144-4ac0-c37f-363ee8fc8978"
   },
   "outputs": [
    {
     "name": "stdout",
     "output_type": "stream",
     "text": [
      "Linear regression confidence : 0.9943809944270082\n"
     ]
    }
   ],
   "source": [
    "#test the model using score \n",
    "linReg_confidense = linReg.score(x_test, y_test)\n",
    "print(\"Linear regression confidence :\", linReg_confidense)"
   ]
  },
  {
   "cell_type": "code",
   "execution_count": 15,
   "metadata": {
    "colab": {
     "base_uri": "https://localhost:8080/"
    },
    "id": "d03f0e62",
    "outputId": "89ba2fb9-b1fe-4341-ed71-4d71c63d0b3a"
   },
   "outputs": [
    {
     "name": "stdout",
     "output_type": "stream",
     "text": [
      "[136.34898632 170.78081745 452.95825162 ... 460.33935099 101.6977171\n",
      "  11.57848353]\n"
     ]
    }
   ],
   "source": [
    "linReg_prediction = linReg.predict(x_test)\n",
    "print(linReg_prediction)"
   ]
  },
  {
   "cell_type": "code",
   "execution_count": 16,
   "metadata": {
    "colab": {
     "base_uri": "https://localhost:8080/"
    },
    "id": "824bb312",
    "outputId": "b55f46e5-fa8b-48f4-9928-247f43c2546a"
   },
   "outputs": [
    {
     "data": {
      "text/plain": [
       "array([135.17, 167.18, 442.91, ..., 463.47,  92.95,  10.99])"
      ]
     },
     "execution_count": 16,
     "metadata": {},
     "output_type": "execute_result"
    }
   ],
   "source": [
    "y_test"
   ]
  },
  {
   "cell_type": "code",
   "execution_count": 17,
   "metadata": {
    "colab": {
     "base_uri": "https://localhost:8080/",
     "height": 295
    },
    "id": "f7e7fe6e",
    "outputId": "0dfd7e1b-2a49-4168-a712-66d5a818bc4a"
   },
   "outputs": [
    {
     "data": {
      "image/png": "[encoded data removed]",
      "text/plain": [
       "<Figure size 432x288 with 1 Axes>"
      ]
     },
     "metadata": {
      "needs_background": "light"
     },
     "output_type": "display_data"
    }
   ],
   "source": [
    "plt.scatter(x_test, y_test, color = \"red\")\n",
    "plt.plot(x_train, linReg.predict(x_train), color = \"green\")\n",
    "plt.title(\"Etherium price vs Predicted Price after 14 days (Training set)\")\n",
    "plt.xlabel(\"Etherium Price\")\n",
    "plt.ylabel(\"Predicted Price\")\n",
    "plt.show()"
   ]
  },
  {
   "cell_type": "markdown",
   "metadata": {
    "id": "96b26fe1"
   },
   "source": [
    "# Saving Model & Loading Model"
   ]
  },
  {
   "cell_type": "code",
   "execution_count": 18,
   "metadata": {
    "id": "27b8666a"
   },
   "outputs": [],
   "source": [
    "import pickle\n",
    "# save the model to disk\n",
    "filename = 'ether_predictor.pkl'\n",
    "pickle.dump(linReg, open(filename, 'wb'))"
   ]
  },
  {
   "cell_type": "code",
   "execution_count": 19,
   "metadata": {
    "colab": {
     "base_uri": "https://localhost:8080/"
    },
    "id": "eca0ebfd",
    "outputId": "d915fe76-1e14-4ed2-b80b-6048b9756bf5"
   },
   "outputs": [
    {
     "name": "stdout",
     "output_type": "stream",
     "text": [
      "0.9943809944270082\n"
     ]
    }
   ],
   "source": [
    "# load the model from disk\n",
    "loaded_model = pickle.load(open(filename, 'rb'))\n",
    "result = loaded_model.score(x_test, y_test)\n",
    "print(result)"
   ]
  },
  {
   "cell_type": "code",
   "execution_count": 20,
   "metadata": {
    "colab": {
     "base_uri": "https://localhost:8080/"
    },
    "id": "57a4de28",
    "outputId": "c9a0d9c7-a556-49a1-f028-fe6affbd6ade"
   },
   "outputs": [
    {
     "data": {
      "text/plain": [
       "array([136.34898632, 170.78081745, 452.95825162, ..., 460.33935099,\n",
       "       101.6977171 ,  11.57848353])"
      ]
     },
     "execution_count": 20,
     "metadata": {},
     "output_type": "execute_result"
    }
   ],
   "source": [
    "loaded_model.predict(x_test)"
   ]
  },
  {
   "cell_type": "markdown",
   "metadata": {
    "id": "d18df8d8"
   },
   "source": [
    "# THANK YOU !!!"
   ]
  },
  {
   "cell_type": "code",
   "execution_count": null,
   "metadata": {
    "id": "5jsXRw0WVS9G"
   },
   "outputs": [],
   "source": []
  }
 ],
 "metadata": {
  "colab": {
   "name": "etherium_price_prediction.ipynb",
   "provenance": []
  },
  "kernelspec": {
   "display_name": "Python 3",
   "language": "python",
   "name": "python3"
  },
  "language_info": {
   "codemirror_mode": {
    "name": "ipython",
    "version": 3
   },
   "file_extension": ".py",
   "mimetype": "text/x-python",
   "name": "python",
   "nbconvert_exporter": "python",
   "pygments_lexer": "ipython3",
   "version": "3.8.3"
  }
 },
 "nbformat": 4,
 "nbformat_minor": 5
}
